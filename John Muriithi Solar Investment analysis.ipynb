{
 "cells": [
  {
   "cell_type": "markdown",
   "metadata": {},
   "source": [
    "# Introduction\n",
    "The client, Naomi, currently uses a combination of solar power and electricity purchased from her electricity provide her to meet all her electricity needs. Solar power meets Naomi’s electricity usage at the time it is generated, and it helps Naomi reduce the amount of electricity required. However, Naomi receives no benefit from the excess energy that is generated, as she has no way of storing it. She is considering obtaining a battery to store the excess power, and she is hoping that it can also offset her current costs of electricity. The Battery costs $7000 and will be installed on January 1, 2022. It is projected to last 20 years, and can store 12.5 kWh, and has a minimum threshold of 0 kWh.\n",
    "\n",
    "Here are some important points to keep in mind as we progress through this analysis.\n",
    "\n",
    "1. All electricity usage is measured in kilowatt hours (kWh)\n",
    "2. The current price of energy from Naomi’s electricity provider is $0.17 per kWh.\n",
    "3. My task as the data analyst on this project is to help Naomi determine if the cost savings generated from her investment in Solar    Batteries are significant enough to justify her investment.\n",
    "\n",
    "# The Data\n",
    "The data provided was from a measuring device Naomi had installed which provided data showing her solar electricity generation and electricity usage for 2020 in hourly increments.\n",
    "\n",
    "# The Macroeconomic Conditions\n",
    "From 1 January 2022, Naomi will pay $0.17 for each kWh of electricity purchased from her electricity provider. The electricity price increases with annual electricity price inflation on 1 January 2023, and each 1 January thereafter.\n",
    "\n",
    "A recent government report estimated electricity price inflation over the next 20 years to be 4% per annum Naomi thinks that the global focus on climate change will cause electricity prices to rise faster than 4% per annum and she estimates that electricity price inflation may increase by an additional 0.25% per annum year on year (i.e. an increase of 4.0% per annum at 1 January 2023, 4.25% per annum at 1 January 2024, 4.50% per annum at 1 January 2025, etc.).\n",
    "\n",
    "# Purpose\n",
    "The goal of the analysis is to help the client determine if investing in a Solar Battery will be cost effective, and if it will help her realize any worthwhile cost savings with regards to her electricity expenditure. Our goals are threefold:\n",
    "\n",
    "To create a model to determine the extra kWh that can be saved by using the solar battery.\n",
    "To analyze the potential savings in her electricity costs from purchasing the battery.\n",
    "To calculate the NPV and IRR in the following 2 scenarios to help Naomi determine if this is a worthwhile investment. * Scenario 1. Electricity prices increase as expected by the government, 4% p.a. * Scenario 2. Electricity price increases start at 4% p.a. and rise each year by an additional 0.25% p.a, as estimated by Naomi."
   ]
  },
  {
   "cell_type": "markdown",
   "metadata": {},
   "source": [
    "## Import necessay libraries"
   ]
  },
  {
   "cell_type": "code",
   "execution_count": null,
   "metadata": {},
   "outputs": [],
   "source": [
    "import pandas as pd\n",
    "import numpy as np \n",
    "import matplotlib.pyplot as plt\n",
    "import openpyxl\n",
    "import seaborn as sns\n",
    "\n",
    "%pip install numpy-financial\n",
    "import numpy_financial as npf"
   ]
  },
  {
   "cell_type": "markdown",
   "metadata": {},
   "source": [
    "### Import data into a dataframe for futher analysis"
   ]
  },
  {
   "cell_type": "code",
   "execution_count": 2,
   "metadata": {},
   "outputs": [
    {
     "data": {
      "text/html": [
       "<div>\n",
       "<style scoped>\n",
       "    .dataframe tbody tr th:only-of-type {\n",
       "        vertical-align: middle;\n",
       "    }\n",
       "\n",
       "    .dataframe tbody tr th {\n",
       "        vertical-align: top;\n",
       "    }\n",
       "\n",
       "    .dataframe thead th {\n",
       "        text-align: right;\n",
       "    }\n",
       "</style>\n",
       "<table border=\"1\" class=\"dataframe\">\n",
       "  <thead>\n",
       "    <tr style=\"text-align: right;\">\n",
       "      <th></th>\n",
       "      <th>Hour</th>\n",
       "      <th>Date/hour start</th>\n",
       "      <th>Solar electricity generation (kWh)</th>\n",
       "      <th>Electricity usage (kWh)</th>\n",
       "      <th>Unnamed: 4</th>\n",
       "      <th>Unnamed: 5</th>\n",
       "    </tr>\n",
       "  </thead>\n",
       "  <tbody>\n",
       "    <tr>\n",
       "      <th>0</th>\n",
       "      <td>0.0</td>\n",
       "      <td>2020-01-01 00:00:00.000000</td>\n",
       "      <td>0.0</td>\n",
       "      <td>1.509849</td>\n",
       "      <td>NaN</td>\n",
       "      <td>NaN</td>\n",
       "    </tr>\n",
       "    <tr>\n",
       "      <th>1</th>\n",
       "      <td>1.0</td>\n",
       "      <td>2020-01-01 01:00:00.000003</td>\n",
       "      <td>0.0</td>\n",
       "      <td>1.411859</td>\n",
       "      <td>NaN</td>\n",
       "      <td>NaN</td>\n",
       "    </tr>\n",
       "    <tr>\n",
       "      <th>2</th>\n",
       "      <td>2.0</td>\n",
       "      <td>2020-01-01 01:59:59.999997</td>\n",
       "      <td>0.0</td>\n",
       "      <td>1.023898</td>\n",
       "      <td>NaN</td>\n",
       "      <td>NaN</td>\n",
       "    </tr>\n",
       "    <tr>\n",
       "      <th>3</th>\n",
       "      <td>3.0</td>\n",
       "      <td>2020-01-01 03:00:00.000000</td>\n",
       "      <td>0.0</td>\n",
       "      <td>0.642000</td>\n",
       "      <td>NaN</td>\n",
       "      <td>NaN</td>\n",
       "    </tr>\n",
       "  </tbody>\n",
       "</table>\n",
       "</div>"
      ],
      "text/plain": [
       "   Hour            Date/hour start  Solar electricity generation (kWh)  \\\n",
       "0   0.0 2020-01-01 00:00:00.000000                                 0.0   \n",
       "1   1.0 2020-01-01 01:00:00.000003                                 0.0   \n",
       "2   2.0 2020-01-01 01:59:59.999997                                 0.0   \n",
       "3   3.0 2020-01-01 03:00:00.000000                                 0.0   \n",
       "\n",
       "   Electricity usage (kWh)  Unnamed: 4  Unnamed: 5  \n",
       "0                 1.509849         NaN         NaN  \n",
       "1                 1.411859         NaN         NaN  \n",
       "2                 1.023898         NaN         NaN  \n",
       "3                 0.642000         NaN         NaN  "
      ]
     },
     "execution_count": 2,
     "metadata": {},
     "output_type": "execute_result"
    }
   ],
   "source": [
    "\n",
    "electricity_data = pd.read_excel('Data/Junior Data Analyst _ Data.xlsx',\n",
    "                                 engine='openpyxl',sheet_name='Raw Data',skiprows=(2))\n",
    "electricity_data.head(4)"
   ]
  },
  {
   "cell_type": "markdown",
   "metadata": {},
   "source": [
    "#### remove unneccesary columns"
   ]
  },
  {
   "cell_type": "code",
   "execution_count": 3,
   "metadata": {},
   "outputs": [
    {
     "data": {
      "text/html": [
       "<div>\n",
       "<style scoped>\n",
       "    .dataframe tbody tr th:only-of-type {\n",
       "        vertical-align: middle;\n",
       "    }\n",
       "\n",
       "    .dataframe tbody tr th {\n",
       "        vertical-align: top;\n",
       "    }\n",
       "\n",
       "    .dataframe thead th {\n",
       "        text-align: right;\n",
       "    }\n",
       "</style>\n",
       "<table border=\"1\" class=\"dataframe\">\n",
       "  <thead>\n",
       "    <tr style=\"text-align: right;\">\n",
       "      <th></th>\n",
       "      <th>Hour</th>\n",
       "      <th>Date/hour start</th>\n",
       "      <th>Solar electricity generation (kWh)</th>\n",
       "      <th>Electricity usage (kWh)</th>\n",
       "    </tr>\n",
       "  </thead>\n",
       "  <tbody>\n",
       "    <tr>\n",
       "      <th>0</th>\n",
       "      <td>0.0</td>\n",
       "      <td>2020-01-01 00:00:00.000000</td>\n",
       "      <td>0.0</td>\n",
       "      <td>1.509849</td>\n",
       "    </tr>\n",
       "    <tr>\n",
       "      <th>1</th>\n",
       "      <td>1.0</td>\n",
       "      <td>2020-01-01 01:00:00.000003</td>\n",
       "      <td>0.0</td>\n",
       "      <td>1.411859</td>\n",
       "    </tr>\n",
       "    <tr>\n",
       "      <th>2</th>\n",
       "      <td>2.0</td>\n",
       "      <td>2020-01-01 01:59:59.999997</td>\n",
       "      <td>0.0</td>\n",
       "      <td>1.023898</td>\n",
       "    </tr>\n",
       "    <tr>\n",
       "      <th>3</th>\n",
       "      <td>3.0</td>\n",
       "      <td>2020-01-01 03:00:00.000000</td>\n",
       "      <td>0.0</td>\n",
       "      <td>0.642000</td>\n",
       "    </tr>\n",
       "    <tr>\n",
       "      <th>4</th>\n",
       "      <td>4.0</td>\n",
       "      <td>2020-01-01 04:00:00.000003</td>\n",
       "      <td>0.0</td>\n",
       "      <td>0.960000</td>\n",
       "    </tr>\n",
       "  </tbody>\n",
       "</table>\n",
       "</div>"
      ],
      "text/plain": [
       "   Hour            Date/hour start  Solar electricity generation (kWh)  \\\n",
       "0   0.0 2020-01-01 00:00:00.000000                                 0.0   \n",
       "1   1.0 2020-01-01 01:00:00.000003                                 0.0   \n",
       "2   2.0 2020-01-01 01:59:59.999997                                 0.0   \n",
       "3   3.0 2020-01-01 03:00:00.000000                                 0.0   \n",
       "4   4.0 2020-01-01 04:00:00.000003                                 0.0   \n",
       "\n",
       "   Electricity usage (kWh)  \n",
       "0                 1.509849  \n",
       "1                 1.411859  \n",
       "2                 1.023898  \n",
       "3                 0.642000  \n",
       "4                 0.960000  "
      ]
     },
     "execution_count": 3,
     "metadata": {},
     "output_type": "execute_result"
    }
   ],
   "source": [
    "\n",
    "electricity_data.drop(['Unnamed: 4','Unnamed: 5'],inplace=True,axis=1)\n",
    "electricity_data.head()"
   ]
  },
  {
   "cell_type": "markdown",
   "metadata": {},
   "source": [
    "#### summary info about the data"
   ]
  },
  {
   "cell_type": "code",
   "execution_count": 4,
   "metadata": {},
   "outputs": [
    {
     "name": "stdout",
     "output_type": "stream",
     "text": [
      "<class 'pandas.core.frame.DataFrame'>\n",
      "RangeIndex: 9760 entries, 0 to 9759\n",
      "Data columns (total 4 columns):\n",
      " #   Column                              Non-Null Count  Dtype         \n",
      "---  ------                              --------------  -----         \n",
      " 0   Hour                                8760 non-null   float64       \n",
      " 1   Date/hour start                     8760 non-null   datetime64[ns]\n",
      " 2   Solar electricity generation (kWh)  8760 non-null   float64       \n",
      " 3   Electricity usage (kWh)             8760 non-null   float64       \n",
      "dtypes: datetime64[ns](1), float64(3)\n",
      "memory usage: 305.1 KB\n"
     ]
    }
   ],
   "source": [
    "\n",
    "electricity_data.info()"
   ]
  },
  {
   "cell_type": "code",
   "execution_count": 5,
   "metadata": {},
   "outputs": [
    {
     "data": {
      "text/plain": [
       "True"
      ]
     },
     "execution_count": 5,
     "metadata": {},
     "output_type": "execute_result"
    }
   ],
   "source": [
    "#check for NaN values in the data column\n",
    "check_nan = electricity_data.isnull().values.any()\n",
    "check_nan\n"
   ]
  },
  {
   "cell_type": "code",
   "execution_count": 6,
   "metadata": {},
   "outputs": [
    {
     "data": {
      "text/html": [
       "<div>\n",
       "<style scoped>\n",
       "    .dataframe tbody tr th:only-of-type {\n",
       "        vertical-align: middle;\n",
       "    }\n",
       "\n",
       "    .dataframe tbody tr th {\n",
       "        vertical-align: top;\n",
       "    }\n",
       "\n",
       "    .dataframe thead th {\n",
       "        text-align: right;\n",
       "    }\n",
       "</style>\n",
       "<table border=\"1\" class=\"dataframe\">\n",
       "  <thead>\n",
       "    <tr style=\"text-align: right;\">\n",
       "      <th></th>\n",
       "      <th>Hour</th>\n",
       "      <th>Date/hour start</th>\n",
       "      <th>Solar electricity generation (kWh)</th>\n",
       "      <th>Electricity usage (kWh)</th>\n",
       "    </tr>\n",
       "  </thead>\n",
       "  <tbody>\n",
       "    <tr>\n",
       "      <th>8755</th>\n",
       "      <td>19.0</td>\n",
       "      <td>2020-12-31 19:00:00.000003</td>\n",
       "      <td>0.012</td>\n",
       "      <td>4.395600</td>\n",
       "    </tr>\n",
       "    <tr>\n",
       "      <th>8756</th>\n",
       "      <td>20.0</td>\n",
       "      <td>2020-12-31 19:59:59.999997</td>\n",
       "      <td>0.003</td>\n",
       "      <td>4.560600</td>\n",
       "    </tr>\n",
       "    <tr>\n",
       "      <th>8757</th>\n",
       "      <td>21.0</td>\n",
       "      <td>2020-12-31 21:00:00.000000</td>\n",
       "      <td>0.000</td>\n",
       "      <td>2.022000</td>\n",
       "    </tr>\n",
       "    <tr>\n",
       "      <th>8758</th>\n",
       "      <td>22.0</td>\n",
       "      <td>2020-12-31 22:00:00.000003</td>\n",
       "      <td>0.015</td>\n",
       "      <td>1.668000</td>\n",
       "    </tr>\n",
       "    <tr>\n",
       "      <th>8759</th>\n",
       "      <td>23.0</td>\n",
       "      <td>2020-12-31 22:59:59.999997</td>\n",
       "      <td>0.000</td>\n",
       "      <td>0.805919</td>\n",
       "    </tr>\n",
       "  </tbody>\n",
       "</table>\n",
       "</div>"
      ],
      "text/plain": [
       "      Hour            Date/hour start  Solar electricity generation (kWh)  \\\n",
       "8755  19.0 2020-12-31 19:00:00.000003                               0.012   \n",
       "8756  20.0 2020-12-31 19:59:59.999997                               0.003   \n",
       "8757  21.0 2020-12-31 21:00:00.000000                               0.000   \n",
       "8758  22.0 2020-12-31 22:00:00.000003                               0.015   \n",
       "8759  23.0 2020-12-31 22:59:59.999997                               0.000   \n",
       "\n",
       "      Electricity usage (kWh)  \n",
       "8755                 4.395600  \n",
       "8756                 4.560600  \n",
       "8757                 2.022000  \n",
       "8758                 1.668000  \n",
       "8759                 0.805919  "
      ]
     },
     "execution_count": 6,
     "metadata": {},
     "output_type": "execute_result"
    }
   ],
   "source": [
    "# drop empty rows\n",
    "electricity_data.dropna(axis=0,inplace=True)\n",
    "check_nan = electricity_data.isnull().values.any()\n",
    "check_nan\n",
    "electricity_data.tail(5)"
   ]
  },
  {
   "cell_type": "markdown",
   "metadata": {},
   "source": [
    "#### rename columns headers"
   ]
  },
  {
   "cell_type": "code",
   "execution_count": 7,
   "metadata": {},
   "outputs": [
    {
     "data": {
      "text/html": [
       "<div>\n",
       "<style scoped>\n",
       "    .dataframe tbody tr th:only-of-type {\n",
       "        vertical-align: middle;\n",
       "    }\n",
       "\n",
       "    .dataframe tbody tr th {\n",
       "        vertical-align: top;\n",
       "    }\n",
       "\n",
       "    .dataframe thead th {\n",
       "        text-align: right;\n",
       "    }\n",
       "</style>\n",
       "<table border=\"1\" class=\"dataframe\">\n",
       "  <thead>\n",
       "    <tr style=\"text-align: right;\">\n",
       "      <th></th>\n",
       "      <th>hour</th>\n",
       "      <th>date_hour_start</th>\n",
       "      <th>solar_kWh</th>\n",
       "      <th>electric_use_kWh</th>\n",
       "    </tr>\n",
       "  </thead>\n",
       "  <tbody>\n",
       "    <tr>\n",
       "      <th>0</th>\n",
       "      <td>0.0</td>\n",
       "      <td>2020-01-01 00:00:00.000000</td>\n",
       "      <td>0.0</td>\n",
       "      <td>1.509849</td>\n",
       "    </tr>\n",
       "    <tr>\n",
       "      <th>1</th>\n",
       "      <td>1.0</td>\n",
       "      <td>2020-01-01 01:00:00.000003</td>\n",
       "      <td>0.0</td>\n",
       "      <td>1.411859</td>\n",
       "    </tr>\n",
       "    <tr>\n",
       "      <th>2</th>\n",
       "      <td>2.0</td>\n",
       "      <td>2020-01-01 01:59:59.999997</td>\n",
       "      <td>0.0</td>\n",
       "      <td>1.023898</td>\n",
       "    </tr>\n",
       "    <tr>\n",
       "      <th>3</th>\n",
       "      <td>3.0</td>\n",
       "      <td>2020-01-01 03:00:00.000000</td>\n",
       "      <td>0.0</td>\n",
       "      <td>0.642000</td>\n",
       "    </tr>\n",
       "    <tr>\n",
       "      <th>4</th>\n",
       "      <td>4.0</td>\n",
       "      <td>2020-01-01 04:00:00.000003</td>\n",
       "      <td>0.0</td>\n",
       "      <td>0.960000</td>\n",
       "    </tr>\n",
       "  </tbody>\n",
       "</table>\n",
       "</div>"
      ],
      "text/plain": [
       "   hour            date_hour_start  solar_kWh  electric_use_kWh\n",
       "0   0.0 2020-01-01 00:00:00.000000        0.0          1.509849\n",
       "1   1.0 2020-01-01 01:00:00.000003        0.0          1.411859\n",
       "2   2.0 2020-01-01 01:59:59.999997        0.0          1.023898\n",
       "3   3.0 2020-01-01 03:00:00.000000        0.0          0.642000\n",
       "4   4.0 2020-01-01 04:00:00.000003        0.0          0.960000"
      ]
     },
     "execution_count": 7,
     "metadata": {},
     "output_type": "execute_result"
    }
   ],
   "source": [
    "# rename columns\n",
    "electricity_data.rename(columns = {'Hour':'hour',\n",
    "                                 'Date/hour start':'date_hour_start',\n",
    "                                 'Solar electricity generation (kWh)':'solar_kWh',\n",
    "                                 'Electricity usage (kWh)':'electric_use_kWh'}, inplace = True)\n",
    "electricity_data.head()"
   ]
  },
  {
   "cell_type": "markdown",
   "metadata": {},
   "source": [
    "### 1. Explore the data"
   ]
  },
  {
   "cell_type": "code",
   "execution_count": 8,
   "metadata": {},
   "outputs": [
    {
     "data": {
      "text/html": [
       "<div>\n",
       "<style scoped>\n",
       "    .dataframe tbody tr th:only-of-type {\n",
       "        vertical-align: middle;\n",
       "    }\n",
       "\n",
       "    .dataframe tbody tr th {\n",
       "        vertical-align: top;\n",
       "    }\n",
       "\n",
       "    .dataframe thead th {\n",
       "        text-align: right;\n",
       "    }\n",
       "</style>\n",
       "<table border=\"1\" class=\"dataframe\">\n",
       "  <thead>\n",
       "    <tr style=\"text-align: right;\">\n",
       "      <th></th>\n",
       "      <th>hour</th>\n",
       "      <th>solar_kWh</th>\n",
       "      <th>electric_use_kWh</th>\n",
       "    </tr>\n",
       "  </thead>\n",
       "  <tbody>\n",
       "    <tr>\n",
       "      <th>count</th>\n",
       "      <td>8760.000000</td>\n",
       "      <td>8760.000000</td>\n",
       "      <td>8760.000000</td>\n",
       "    </tr>\n",
       "    <tr>\n",
       "      <th>mean</th>\n",
       "      <td>11.500000</td>\n",
       "      <td>1.116750</td>\n",
       "      <td>7.312704</td>\n",
       "    </tr>\n",
       "    <tr>\n",
       "      <th>std</th>\n",
       "      <td>6.922582</td>\n",
       "      <td>2.026098</td>\n",
       "      <td>491.479806</td>\n",
       "    </tr>\n",
       "    <tr>\n",
       "      <th>min</th>\n",
       "      <td>0.000000</td>\n",
       "      <td>0.000000</td>\n",
       "      <td>-12.624000</td>\n",
       "    </tr>\n",
       "    <tr>\n",
       "      <th>25%</th>\n",
       "      <td>5.750000</td>\n",
       "      <td>0.000000</td>\n",
       "      <td>0.300000</td>\n",
       "    </tr>\n",
       "    <tr>\n",
       "      <th>50%</th>\n",
       "      <td>11.500000</td>\n",
       "      <td>0.024000</td>\n",
       "      <td>0.621000</td>\n",
       "    </tr>\n",
       "    <tr>\n",
       "      <th>75%</th>\n",
       "      <td>17.250000</td>\n",
       "      <td>1.272750</td>\n",
       "      <td>1.686000</td>\n",
       "    </tr>\n",
       "    <tr>\n",
       "      <th>max</th>\n",
       "      <td>23.000000</td>\n",
       "      <td>13.050000</td>\n",
       "      <td>46000.000000</td>\n",
       "    </tr>\n",
       "  </tbody>\n",
       "</table>\n",
       "</div>"
      ],
      "text/plain": [
       "              hour    solar_kWh  electric_use_kWh\n",
       "count  8760.000000  8760.000000       8760.000000\n",
       "mean     11.500000     1.116750          7.312704\n",
       "std       6.922582     2.026098        491.479806\n",
       "min       0.000000     0.000000        -12.624000\n",
       "25%       5.750000     0.000000          0.300000\n",
       "50%      11.500000     0.024000          0.621000\n",
       "75%      17.250000     1.272750          1.686000\n",
       "max      23.000000    13.050000      46000.000000"
      ]
     },
     "execution_count": 8,
     "metadata": {},
     "output_type": "execute_result"
    }
   ],
   "source": [
    "# describe the data to learn more about the data.\n",
    "electricity_data.describe()"
   ]
  },
  {
   "cell_type": "code",
   "execution_count": 9,
   "metadata": {},
   "outputs": [
    {
     "data": {
      "text/plain": [
       "<AxesSubplot:xlabel='hour'>"
      ]
     },
     "execution_count": 9,
     "metadata": {},
     "output_type": "execute_result"
    },
    {
     "data": {
      "image/png": "[encoded data removed]",
      "text/plain": [
       "<Figure size 432x288 with 1 Axes>"
      ]
     },
     "metadata": {
      "needs_background": "light"
     },
     "output_type": "display_data"
    }
   ],
   "source": [
    "#calculate avrg solar generation and avrg grid electricity usage\n",
    "solar_vs_grid = electricity_data.groupby('hour').mean()\n",
    "\n",
    "#plot the table in a line graph\n",
    "solar_vs_grid.plot(kind='line')"
   ]
  },
  {
   "cell_type": "code",
   "execution_count": 10,
   "metadata": {},
   "outputs": [
    {
     "data": {
      "text/plain": [
       "(                     0\n",
       " solar_kWh         11.0\n",
       " electric_use_kWh  12.0,\n",
       "                            0\n",
       " solar_kWh           3.751915\n",
       " electric_use_kWh  128.000444)"
      ]
     },
     "execution_count": 10,
     "metadata": {},
     "output_type": "execute_result"
    }
   ],
   "source": [
    "solar_vs_grid.idxmax().to_frame(),solar_vs_grid.max().to_frame()"
   ]
  },
  {
   "cell_type": "markdown",
   "metadata": {},
   "source": [
    "There is a huge spike in electricity usage at 12 noon. check if there are any outliers causing of this spike."
   ]
  },
  {
   "cell_type": "markdown",
   "metadata": {},
   "source": [
    "### 2. Investigate the outliers"
   ]
  },
  {
   "cell_type": "code",
   "execution_count": 11,
   "metadata": {},
   "outputs": [
    {
     "data": {
      "text/plain": [
       "<AxesSubplot:xlabel='electric_use_kWh'>"
      ]
     },
     "execution_count": 11,
     "metadata": {},
     "output_type": "execute_result"
    },
    {
     "data": {
      "image/png": "[encoded data removed]",
      "text/plain": [
       "<Figure size 432x288 with 1 Axes>"
      ]
     },
     "metadata": {
      "needs_background": "light"
     },
     "output_type": "display_data"
    }
   ],
   "source": [
    "\n",
    "sns.boxplot(x='electric_use_kWh',data=electricity_data)\n"
   ]
  },
  {
   "cell_type": "code",
   "execution_count": 12,
   "metadata": {},
   "outputs": [
    {
     "data": {
      "text/plain": [
       "<AxesSubplot:xlabel='solar_kWh'>"
      ]
     },
     "execution_count": 12,
     "metadata": {},
     "output_type": "execute_result"
    },
    {
     "data": {
      "image/png": "[encoded data removed]",
      "text/plain": [
       "<Figure size 432x288 with 1 Axes>"
      ]
     },
     "metadata": {
      "needs_background": "light"
     },
     "output_type": "display_data"
    }
   ],
   "source": [
    "sns.boxplot(x='solar_kWh', data = electricity_data)"
   ]
  },
  {
   "cell_type": "markdown",
   "metadata": {},
   "source": [
    "Appears to have an Outlier for the electricity data skeewing the mean calculation\n"
   ]
  },
  {
   "cell_type": "markdown",
   "metadata": {},
   "source": [
    "### correct the outlier\n",
    "\n",
    "Repalce the max value with the median"
   ]
  },
  {
   "cell_type": "code",
   "execution_count": 13,
   "metadata": {},
   "outputs": [
    {
     "data": {
      "text/plain": [
       "<AxesSubplot:xlabel='electric_use_kWh'>"
      ]
     },
     "execution_count": 13,
     "metadata": {},
     "output_type": "execute_result"
    },
    {
     "data": {
      "image/png": "[encoded data removed]",
      "text/plain": [
       "<Figure size 432x288 with 1 Axes>"
      ]
     },
     "metadata": {
      "needs_background": "light"
     },
     "output_type": "display_data"
    }
   ],
   "source": [
    "# to correct the data replace the value with the median and visualize the data again.\n",
    "data = electricity_data\n",
    "# calculate the median\n",
    "electric_median = data['electric_use_kWh'].median()\n",
    "\n",
    "#repalce the etreme value with the median.\n",
    "data['electric_use_kWh'] = np.where(data['electric_use_kWh']==data['electric_use_kWh'].max(),\n",
    "                                  electric_median,data['electric_use_kWh'])\n",
    "\n",
    "\n",
    "# Plot\n",
    "sns.boxplot(x='electric_use_kWh',data=electricity_data)"
   ]
  },
  {
   "cell_type": "code",
   "execution_count": 14,
   "metadata": {},
   "outputs": [
    {
     "data": {
      "text/plain": [
       "2.061633192100455"
      ]
     },
     "execution_count": 14,
     "metadata": {},
     "output_type": "execute_result"
    }
   ],
   "source": [
    "data['electric_use_kWh'].mean()"
   ]
  },
  {
   "cell_type": "code",
   "execution_count": 15,
   "metadata": {},
   "outputs": [
    {
     "data": {
      "text/plain": [
       "<AxesSubplot:xlabel='hour'>"
      ]
     },
     "execution_count": 15,
     "metadata": {},
     "output_type": "execute_result"
    },
    {
     "data": {
      "image/png": "[encoded data removed]",
      "text/plain": [
       "<Figure size 432x288 with 1 Axes>"
      ]
     },
     "metadata": {
      "needs_background": "light"
     },
     "output_type": "display_data"
    }
   ],
   "source": [
    "#calculate avrg solar generation and avrg grid electricity usage\n",
    "solar_vs_grid = electricity_data.groupby('hour').mean()\n",
    "\n",
    "#plot the table in a line graph\n",
    "solar_vs_grid.plot(kind='line')"
   ]
  },
  {
   "cell_type": "markdown",
   "metadata": {},
   "source": [
    "## Create the model\n",
    "Determine the cummalative battery cahrge level(kWh) per hour for year 2020\n",
    "We will use the data to determine the cost saving.\n"
   ]
  },
  {
   "cell_type": "markdown",
   "metadata": {},
   "source": [
    "### calculate the amount of electricity to be bought and create a new column"
   ]
  },
  {
   "cell_type": "code",
   "execution_count": 19,
   "metadata": {},
   "outputs": [
    {
     "data": {
      "text/html": [
       "<div>\n",
       "<style scoped>\n",
       "    .dataframe tbody tr th:only-of-type {\n",
       "        vertical-align: middle;\n",
       "    }\n",
       "\n",
       "    .dataframe tbody tr th {\n",
       "        vertical-align: top;\n",
       "    }\n",
       "\n",
       "    .dataframe thead th {\n",
       "        text-align: right;\n",
       "    }\n",
       "</style>\n",
       "<table border=\"1\" class=\"dataframe\">\n",
       "  <thead>\n",
       "    <tr style=\"text-align: right;\">\n",
       "      <th></th>\n",
       "      <th>hour</th>\n",
       "      <th>date_hour_start</th>\n",
       "      <th>solar_kWh</th>\n",
       "      <th>electric_use_kWh</th>\n",
       "      <th>elec_to_buy_kWh</th>\n",
       "    </tr>\n",
       "  </thead>\n",
       "  <tbody>\n",
       "    <tr>\n",
       "      <th>0</th>\n",
       "      <td>0.0</td>\n",
       "      <td>2020-01-01 00:00:00.000000</td>\n",
       "      <td>0.000</td>\n",
       "      <td>1.509849</td>\n",
       "      <td>1.509849</td>\n",
       "    </tr>\n",
       "    <tr>\n",
       "      <th>1</th>\n",
       "      <td>1.0</td>\n",
       "      <td>2020-01-01 01:00:00.000003</td>\n",
       "      <td>0.000</td>\n",
       "      <td>1.411859</td>\n",
       "      <td>1.411859</td>\n",
       "    </tr>\n",
       "    <tr>\n",
       "      <th>2</th>\n",
       "      <td>2.0</td>\n",
       "      <td>2020-01-01 01:59:59.999997</td>\n",
       "      <td>0.000</td>\n",
       "      <td>1.023898</td>\n",
       "      <td>1.023898</td>\n",
       "    </tr>\n",
       "    <tr>\n",
       "      <th>3</th>\n",
       "      <td>3.0</td>\n",
       "      <td>2020-01-01 03:00:00.000000</td>\n",
       "      <td>0.000</td>\n",
       "      <td>0.642000</td>\n",
       "      <td>0.642000</td>\n",
       "    </tr>\n",
       "    <tr>\n",
       "      <th>4</th>\n",
       "      <td>4.0</td>\n",
       "      <td>2020-01-01 04:00:00.000003</td>\n",
       "      <td>0.000</td>\n",
       "      <td>0.960000</td>\n",
       "      <td>0.960000</td>\n",
       "    </tr>\n",
       "    <tr>\n",
       "      <th>5</th>\n",
       "      <td>5.0</td>\n",
       "      <td>2020-01-01 04:59:59.999997</td>\n",
       "      <td>0.012</td>\n",
       "      <td>0.897000</td>\n",
       "      <td>0.885000</td>\n",
       "    </tr>\n",
       "    <tr>\n",
       "      <th>6</th>\n",
       "      <td>6.0</td>\n",
       "      <td>2020-01-01 06:00:00.000000</td>\n",
       "      <td>0.006</td>\n",
       "      <td>0.648000</td>\n",
       "      <td>0.642000</td>\n",
       "    </tr>\n",
       "    <tr>\n",
       "      <th>7</th>\n",
       "      <td>7.0</td>\n",
       "      <td>2020-01-01 07:00:00.000003</td>\n",
       "      <td>0.009</td>\n",
       "      <td>0.774000</td>\n",
       "      <td>0.765000</td>\n",
       "    </tr>\n",
       "    <tr>\n",
       "      <th>8</th>\n",
       "      <td>8.0</td>\n",
       "      <td>2020-01-01 07:59:59.999997</td>\n",
       "      <td>0.012</td>\n",
       "      <td>1.299000</td>\n",
       "      <td>1.287000</td>\n",
       "    </tr>\n",
       "    <tr>\n",
       "      <th>9</th>\n",
       "      <td>9.0</td>\n",
       "      <td>2020-01-01 09:00:00.000000</td>\n",
       "      <td>0.846</td>\n",
       "      <td>0.606000</td>\n",
       "      <td>0.000000</td>\n",
       "    </tr>\n",
       "  </tbody>\n",
       "</table>\n",
       "</div>"
      ],
      "text/plain": [
       "   hour            date_hour_start  solar_kWh  electric_use_kWh  \\\n",
       "0   0.0 2020-01-01 00:00:00.000000      0.000          1.509849   \n",
       "1   1.0 2020-01-01 01:00:00.000003      0.000          1.411859   \n",
       "2   2.0 2020-01-01 01:59:59.999997      0.000          1.023898   \n",
       "3   3.0 2020-01-01 03:00:00.000000      0.000          0.642000   \n",
       "4   4.0 2020-01-01 04:00:00.000003      0.000          0.960000   \n",
       "5   5.0 2020-01-01 04:59:59.999997      0.012          0.897000   \n",
       "6   6.0 2020-01-01 06:00:00.000000      0.006          0.648000   \n",
       "7   7.0 2020-01-01 07:00:00.000003      0.009          0.774000   \n",
       "8   8.0 2020-01-01 07:59:59.999997      0.012          1.299000   \n",
       "9   9.0 2020-01-01 09:00:00.000000      0.846          0.606000   \n",
       "\n",
       "   elec_to_buy_kWh  \n",
       "0         1.509849  \n",
       "1         1.411859  \n",
       "2         1.023898  \n",
       "3         0.642000  \n",
       "4         0.960000  \n",
       "5         0.885000  \n",
       "6         0.642000  \n",
       "7         0.765000  \n",
       "8         1.287000  \n",
       "9         0.000000  "
      ]
     },
     "execution_count": 19,
     "metadata": {},
     "output_type": "execute_result"
    }
   ],
   "source": [
    "# calculate the amount of electricity to be bought and create a new column\n",
    "data['elec_to_buy_kWh'] = data['electric_use_kWh']-data['solar_kWh']\n",
    "# the values can not be zero\n",
    "data.loc[data['elec_to_buy_kWh']<0,'elec_to_buy_kWh'] = 0\n",
    "\n",
    "data.head(10)"
   ]
  },
  {
   "cell_type": "code",
   "execution_count": 20,
   "metadata": {},
   "outputs": [
    {
     "data": {
      "text/plain": [
       "(0.0, 61.0968)"
      ]
     },
     "execution_count": 20,
     "metadata": {},
     "output_type": "execute_result"
    }
   ],
   "source": [
    "# check the minimum and maximum electricity bought\n",
    "data['elec_to_buy_kWh'].min(), data['elec_to_buy_kWh'].max()"
   ]
  },
  {
   "cell_type": "markdown",
   "metadata": {},
   "source": [
    "#### amount of excess solar produced"
   ]
  },
  {
   "cell_type": "code",
   "execution_count": 23,
   "metadata": {},
   "outputs": [
    {
     "data": {
      "text/html": [
       "<div>\n",
       "<style scoped>\n",
       "    .dataframe tbody tr th:only-of-type {\n",
       "        vertical-align: middle;\n",
       "    }\n",
       "\n",
       "    .dataframe tbody tr th {\n",
       "        vertical-align: top;\n",
       "    }\n",
       "\n",
       "    .dataframe thead th {\n",
       "        text-align: right;\n",
       "    }\n",
       "</style>\n",
       "<table border=\"1\" class=\"dataframe\">\n",
       "  <thead>\n",
       "    <tr style=\"text-align: right;\">\n",
       "      <th></th>\n",
       "      <th>hour</th>\n",
       "      <th>date_hour_start</th>\n",
       "      <th>solar_kWh</th>\n",
       "      <th>electric_use_kWh</th>\n",
       "      <th>elec_to_buy_kWh</th>\n",
       "      <th>excess_solar_kWh</th>\n",
       "    </tr>\n",
       "  </thead>\n",
       "  <tbody>\n",
       "    <tr>\n",
       "      <th>0</th>\n",
       "      <td>0.0</td>\n",
       "      <td>2020-01-01 00:00:00.000000</td>\n",
       "      <td>0.0</td>\n",
       "      <td>1.509849</td>\n",
       "      <td>1.509849</td>\n",
       "      <td>0.0</td>\n",
       "    </tr>\n",
       "    <tr>\n",
       "      <th>1</th>\n",
       "      <td>1.0</td>\n",
       "      <td>2020-01-01 01:00:00.000003</td>\n",
       "      <td>0.0</td>\n",
       "      <td>1.411859</td>\n",
       "      <td>1.411859</td>\n",
       "      <td>0.0</td>\n",
       "    </tr>\n",
       "    <tr>\n",
       "      <th>2</th>\n",
       "      <td>2.0</td>\n",
       "      <td>2020-01-01 01:59:59.999997</td>\n",
       "      <td>0.0</td>\n",
       "      <td>1.023898</td>\n",
       "      <td>1.023898</td>\n",
       "      <td>0.0</td>\n",
       "    </tr>\n",
       "    <tr>\n",
       "      <th>3</th>\n",
       "      <td>3.0</td>\n",
       "      <td>2020-01-01 03:00:00.000000</td>\n",
       "      <td>0.0</td>\n",
       "      <td>0.642000</td>\n",
       "      <td>0.642000</td>\n",
       "      <td>0.0</td>\n",
       "    </tr>\n",
       "    <tr>\n",
       "      <th>4</th>\n",
       "      <td>4.0</td>\n",
       "      <td>2020-01-01 04:00:00.000003</td>\n",
       "      <td>0.0</td>\n",
       "      <td>0.960000</td>\n",
       "      <td>0.960000</td>\n",
       "      <td>0.0</td>\n",
       "    </tr>\n",
       "  </tbody>\n",
       "</table>\n",
       "</div>"
      ],
      "text/plain": [
       "   hour            date_hour_start  solar_kWh  electric_use_kWh  \\\n",
       "0   0.0 2020-01-01 00:00:00.000000        0.0          1.509849   \n",
       "1   1.0 2020-01-01 01:00:00.000003        0.0          1.411859   \n",
       "2   2.0 2020-01-01 01:59:59.999997        0.0          1.023898   \n",
       "3   3.0 2020-01-01 03:00:00.000000        0.0          0.642000   \n",
       "4   4.0 2020-01-01 04:00:00.000003        0.0          0.960000   \n",
       "\n",
       "   elec_to_buy_kWh  excess_solar_kWh  \n",
       "0         1.509849               0.0  \n",
       "1         1.411859               0.0  \n",
       "2         1.023898               0.0  \n",
       "3         0.642000               0.0  \n",
       "4         0.960000               0.0  "
      ]
     },
     "execution_count": 23,
     "metadata": {},
     "output_type": "execute_result"
    }
   ],
   "source": [
    "# amount of excess solar produced\n",
    "data['excess_solar_kWh'] = data['solar_kWh']-data['electric_use_kWh']\n",
    "data.loc[data['excess_solar_kWh']<0,'excess_solar_kWh'] = 0\n",
    "\n",
    "data.head(5)"
   ]
  },
  {
   "cell_type": "code",
   "execution_count": 24,
   "metadata": {},
   "outputs": [
    {
     "data": {
      "text/plain": [
       "(0.0, 12.734031600000002)"
      ]
     },
     "execution_count": 24,
     "metadata": {},
     "output_type": "execute_result"
    }
   ],
   "source": [
    "data['excess_solar_kWh'].min(),data['excess_solar_kWh'].max()"
   ]
  },
  {
   "cell_type": "markdown",
   "metadata": {},
   "source": [
    "# Model for Cumulative Battery Charge Level\n",
    "\n",
    "The battery charge level should:\n",
    "\n",
    "1. begin at zero at 1 January 2020 00:00.\n",
    "2. allow for the increase or decrease in charge level depending on the hourly results of parts (ii) and (iii).\n",
    "3. be subject to the cap on the maximum battery charge level.\n",
    "\n",
    "Create a column battery_charge_kWh"
   ]
  },
  {
   "cell_type": "code",
   "execution_count": 26,
   "metadata": {},
   "outputs": [],
   "source": [
    "# cumilative battery charge levels\n",
    "\n",
    "battery_charge = [0]\n",
    "\n",
    "for i in range(1,len(data)):\n",
    "    value = battery_charge[i-1]+data.loc[i,'excess_solar_kWh']-data.loc[i,'electric_use_kWh']\n",
    "    if value < 0:\n",
    "        battery_charge.append(0)\n",
    "    elif value>=12.5:\n",
    "        battery_charge.append(12.5)\n",
    "    else:\n",
    "        battery_charge.append(value)\n",
    "    \n"
   ]
  },
  {
   "cell_type": "code",
   "execution_count": 27,
   "metadata": {},
   "outputs": [
    {
     "data": {
      "text/plain": [
       "(0, 12.5)"
      ]
     },
     "execution_count": 27,
     "metadata": {},
     "output_type": "execute_result"
    }
   ],
   "source": [
    "min(battery_charge), max(battery_charge)"
   ]
  },
  {
   "cell_type": "code",
   "execution_count": 28,
   "metadata": {},
   "outputs": [
    {
     "data": {
      "text/html": [
       "<div>\n",
       "<style scoped>\n",
       "    .dataframe tbody tr th:only-of-type {\n",
       "        vertical-align: middle;\n",
       "    }\n",
       "\n",
       "    .dataframe tbody tr th {\n",
       "        vertical-align: top;\n",
       "    }\n",
       "\n",
       "    .dataframe thead th {\n",
       "        text-align: right;\n",
       "    }\n",
       "</style>\n",
       "<table border=\"1\" class=\"dataframe\">\n",
       "  <thead>\n",
       "    <tr style=\"text-align: right;\">\n",
       "      <th></th>\n",
       "      <th>hour</th>\n",
       "      <th>date_hour_start</th>\n",
       "      <th>solar_kWh</th>\n",
       "      <th>electric_use_kWh</th>\n",
       "      <th>elec_to_buy_kWh</th>\n",
       "      <th>excess_solar_kWh</th>\n",
       "      <th>battery_charge_kWh</th>\n",
       "    </tr>\n",
       "  </thead>\n",
       "  <tbody>\n",
       "    <tr>\n",
       "      <th>0</th>\n",
       "      <td>0.0</td>\n",
       "      <td>2020-01-01 00:00:00.000000</td>\n",
       "      <td>0.0</td>\n",
       "      <td>1.509849</td>\n",
       "      <td>1.509849</td>\n",
       "      <td>0.0</td>\n",
       "      <td>0.0</td>\n",
       "    </tr>\n",
       "    <tr>\n",
       "      <th>1</th>\n",
       "      <td>1.0</td>\n",
       "      <td>2020-01-01 01:00:00.000003</td>\n",
       "      <td>0.0</td>\n",
       "      <td>1.411859</td>\n",
       "      <td>1.411859</td>\n",
       "      <td>0.0</td>\n",
       "      <td>0.0</td>\n",
       "    </tr>\n",
       "    <tr>\n",
       "      <th>2</th>\n",
       "      <td>2.0</td>\n",
       "      <td>2020-01-01 01:59:59.999997</td>\n",
       "      <td>0.0</td>\n",
       "      <td>1.023898</td>\n",
       "      <td>1.023898</td>\n",
       "      <td>0.0</td>\n",
       "      <td>0.0</td>\n",
       "    </tr>\n",
       "    <tr>\n",
       "      <th>3</th>\n",
       "      <td>3.0</td>\n",
       "      <td>2020-01-01 03:00:00.000000</td>\n",
       "      <td>0.0</td>\n",
       "      <td>0.642000</td>\n",
       "      <td>0.642000</td>\n",
       "      <td>0.0</td>\n",
       "      <td>0.0</td>\n",
       "    </tr>\n",
       "    <tr>\n",
       "      <th>4</th>\n",
       "      <td>4.0</td>\n",
       "      <td>2020-01-01 04:00:00.000003</td>\n",
       "      <td>0.0</td>\n",
       "      <td>0.960000</td>\n",
       "      <td>0.960000</td>\n",
       "      <td>0.0</td>\n",
       "      <td>0.0</td>\n",
       "    </tr>\n",
       "  </tbody>\n",
       "</table>\n",
       "</div>"
      ],
      "text/plain": [
       "   hour            date_hour_start  solar_kWh  electric_use_kWh  \\\n",
       "0   0.0 2020-01-01 00:00:00.000000        0.0          1.509849   \n",
       "1   1.0 2020-01-01 01:00:00.000003        0.0          1.411859   \n",
       "2   2.0 2020-01-01 01:59:59.999997        0.0          1.023898   \n",
       "3   3.0 2020-01-01 03:00:00.000000        0.0          0.642000   \n",
       "4   4.0 2020-01-01 04:00:00.000003        0.0          0.960000   \n",
       "\n",
       "   elec_to_buy_kWh  excess_solar_kWh  battery_charge_kWh  \n",
       "0         1.509849               0.0                 0.0  \n",
       "1         1.411859               0.0                 0.0  \n",
       "2         1.023898               0.0                 0.0  \n",
       "3         0.642000               0.0                 0.0  \n",
       "4         0.960000               0.0                 0.0  "
      ]
     },
     "execution_count": 28,
     "metadata": {},
     "output_type": "execute_result"
    }
   ],
   "source": [
    "data['battery_charge_kWh'] = battery_charge\n",
    "\n",
    "data.head(5)"
   ]
  },
  {
   "cell_type": "markdown",
   "metadata": {},
   "source": [
    "### kWh of Electricity That Would Have Been Bought with Battery Installed\n",
    "\n",
    "This is the electricity to be bought minus battery charge\n",
    "store data in column  kWh_to_buy_w_battery"
   ]
  },
  {
   "cell_type": "code",
   "execution_count": 30,
   "metadata": {},
   "outputs": [
    {
     "data": {
      "text/html": [
       "<div>\n",
       "<style scoped>\n",
       "    .dataframe tbody tr th:only-of-type {\n",
       "        vertical-align: middle;\n",
       "    }\n",
       "\n",
       "    .dataframe tbody tr th {\n",
       "        vertical-align: top;\n",
       "    }\n",
       "\n",
       "    .dataframe thead th {\n",
       "        text-align: right;\n",
       "    }\n",
       "</style>\n",
       "<table border=\"1\" class=\"dataframe\">\n",
       "  <thead>\n",
       "    <tr style=\"text-align: right;\">\n",
       "      <th></th>\n",
       "      <th>hour</th>\n",
       "      <th>date_hour_start</th>\n",
       "      <th>solar_kWh</th>\n",
       "      <th>electric_use_kWh</th>\n",
       "      <th>elec_to_buy_kWh</th>\n",
       "      <th>excess_solar_kWh</th>\n",
       "      <th>battery_charge_kWh</th>\n",
       "      <th>kWh_to_buy_w_battery</th>\n",
       "    </tr>\n",
       "  </thead>\n",
       "  <tbody>\n",
       "    <tr>\n",
       "      <th>0</th>\n",
       "      <td>0.0</td>\n",
       "      <td>2020-01-01 00:00:00.000000</td>\n",
       "      <td>0.0</td>\n",
       "      <td>1.509849</td>\n",
       "      <td>1.509849</td>\n",
       "      <td>0.0</td>\n",
       "      <td>0.0</td>\n",
       "      <td>1.509849</td>\n",
       "    </tr>\n",
       "    <tr>\n",
       "      <th>1</th>\n",
       "      <td>1.0</td>\n",
       "      <td>2020-01-01 01:00:00.000003</td>\n",
       "      <td>0.0</td>\n",
       "      <td>1.411859</td>\n",
       "      <td>1.411859</td>\n",
       "      <td>0.0</td>\n",
       "      <td>0.0</td>\n",
       "      <td>1.411859</td>\n",
       "    </tr>\n",
       "    <tr>\n",
       "      <th>2</th>\n",
       "      <td>2.0</td>\n",
       "      <td>2020-01-01 01:59:59.999997</td>\n",
       "      <td>0.0</td>\n",
       "      <td>1.023898</td>\n",
       "      <td>1.023898</td>\n",
       "      <td>0.0</td>\n",
       "      <td>0.0</td>\n",
       "      <td>1.023898</td>\n",
       "    </tr>\n",
       "    <tr>\n",
       "      <th>3</th>\n",
       "      <td>3.0</td>\n",
       "      <td>2020-01-01 03:00:00.000000</td>\n",
       "      <td>0.0</td>\n",
       "      <td>0.642000</td>\n",
       "      <td>0.642000</td>\n",
       "      <td>0.0</td>\n",
       "      <td>0.0</td>\n",
       "      <td>0.642000</td>\n",
       "    </tr>\n",
       "    <tr>\n",
       "      <th>4</th>\n",
       "      <td>4.0</td>\n",
       "      <td>2020-01-01 04:00:00.000003</td>\n",
       "      <td>0.0</td>\n",
       "      <td>0.960000</td>\n",
       "      <td>0.960000</td>\n",
       "      <td>0.0</td>\n",
       "      <td>0.0</td>\n",
       "      <td>0.960000</td>\n",
       "    </tr>\n",
       "  </tbody>\n",
       "</table>\n",
       "</div>"
      ],
      "text/plain": [
       "   hour            date_hour_start  solar_kWh  electric_use_kWh  \\\n",
       "0   0.0 2020-01-01 00:00:00.000000        0.0          1.509849   \n",
       "1   1.0 2020-01-01 01:00:00.000003        0.0          1.411859   \n",
       "2   2.0 2020-01-01 01:59:59.999997        0.0          1.023898   \n",
       "3   3.0 2020-01-01 03:00:00.000000        0.0          0.642000   \n",
       "4   4.0 2020-01-01 04:00:00.000003        0.0          0.960000   \n",
       "\n",
       "   elec_to_buy_kWh  excess_solar_kWh  battery_charge_kWh  kWh_to_buy_w_battery  \n",
       "0         1.509849               0.0                 0.0              1.509849  \n",
       "1         1.411859               0.0                 0.0              1.411859  \n",
       "2         1.023898               0.0                 0.0              1.023898  \n",
       "3         0.642000               0.0                 0.0              0.642000  \n",
       "4         0.960000               0.0                 0.0              0.960000  "
      ]
     },
     "execution_count": 30,
     "metadata": {},
     "output_type": "execute_result"
    }
   ],
   "source": [
    "# calculate the number of kWh that would be bought with battery installed\n",
    "data['kWh_to_buy_w_battery'] = data['elec_to_buy_kWh']-data['battery_charge_kWh']\n",
    "data.loc[data['kWh_to_buy_w_battery']<0,'kWh_to_buy_w_battery'] = 0\n",
    "\n",
    "data.head()"
   ]
  },
  {
   "cell_type": "markdown",
   "metadata": {},
   "source": [
    "### amount of savings with the battery for year 2020\n",
    "\n",
    "Cost of electricity: $0.17 per kWh\n",
    "\n",
    "Store the cost savings into a column named csaved_cost in dollars."
   ]
  },
  {
   "cell_type": "code",
   "execution_count": 32,
   "metadata": {},
   "outputs": [
    {
     "data": {
      "text/html": [
       "<div>\n",
       "<style scoped>\n",
       "    .dataframe tbody tr th:only-of-type {\n",
       "        vertical-align: middle;\n",
       "    }\n",
       "\n",
       "    .dataframe tbody tr th {\n",
       "        vertical-align: top;\n",
       "    }\n",
       "\n",
       "    .dataframe thead th {\n",
       "        text-align: right;\n",
       "    }\n",
       "</style>\n",
       "<table border=\"1\" class=\"dataframe\">\n",
       "  <thead>\n",
       "    <tr style=\"text-align: right;\">\n",
       "      <th></th>\n",
       "      <th>saved_cost</th>\n",
       "    </tr>\n",
       "  </thead>\n",
       "  <tbody>\n",
       "    <tr>\n",
       "      <th>count</th>\n",
       "      <td>8760.000000</td>\n",
       "    </tr>\n",
       "    <tr>\n",
       "      <th>mean</th>\n",
       "      <td>0.023467</td>\n",
       "    </tr>\n",
       "    <tr>\n",
       "      <th>std</th>\n",
       "      <td>0.094127</td>\n",
       "    </tr>\n",
       "    <tr>\n",
       "      <th>min</th>\n",
       "      <td>0.000000</td>\n",
       "    </tr>\n",
       "    <tr>\n",
       "      <th>25%</th>\n",
       "      <td>0.000000</td>\n",
       "    </tr>\n",
       "    <tr>\n",
       "      <th>50%</th>\n",
       "      <td>0.000000</td>\n",
       "    </tr>\n",
       "    <tr>\n",
       "      <th>75%</th>\n",
       "      <td>0.000000</td>\n",
       "    </tr>\n",
       "    <tr>\n",
       "      <th>max</th>\n",
       "      <td>1.006230</td>\n",
       "    </tr>\n",
       "  </tbody>\n",
       "</table>\n",
       "</div>"
      ],
      "text/plain": [
       "        saved_cost\n",
       "count  8760.000000\n",
       "mean      0.023467\n",
       "std       0.094127\n",
       "min       0.000000\n",
       "25%       0.000000\n",
       "50%       0.000000\n",
       "75%       0.000000\n",
       "max       1.006230"
      ]
     },
     "execution_count": 32,
     "metadata": {},
     "output_type": "execute_result"
    }
   ],
   "source": [
    "# amount of savings with the battery for year 2020\n",
    "data['saved_cost'] = 0.17*data['elec_to_buy_kWh'] - 0.17*data['kWh_to_buy_w_battery']\n",
    "\n",
    "data[['saved_cost']].describe()"
   ]
  },
  {
   "cell_type": "markdown",
   "metadata": {},
   "source": [
    "### visualize the potential cost savings\n",
    "\n",
    "extract month data from Date_hour_start"
   ]
  },
  {
   "cell_type": "code",
   "execution_count": 39,
   "metadata": {},
   "outputs": [
    {
     "data": {
      "text/html": [
       "<div>\n",
       "<style scoped>\n",
       "    .dataframe tbody tr th:only-of-type {\n",
       "        vertical-align: middle;\n",
       "    }\n",
       "\n",
       "    .dataframe tbody tr th {\n",
       "        vertical-align: top;\n",
       "    }\n",
       "\n",
       "    .dataframe thead th {\n",
       "        text-align: right;\n",
       "    }\n",
       "</style>\n",
       "<table border=\"1\" class=\"dataframe\">\n",
       "  <thead>\n",
       "    <tr style=\"text-align: right;\">\n",
       "      <th></th>\n",
       "      <th>hour</th>\n",
       "      <th>solar_kWh</th>\n",
       "      <th>electric_use_kWh</th>\n",
       "      <th>elec_to_buy_kWh</th>\n",
       "      <th>excess_solar_kWh</th>\n",
       "      <th>battery_charge_kWh</th>\n",
       "      <th>kWh_to_buy_w_battery</th>\n",
       "      <th>saved_cost</th>\n",
       "    </tr>\n",
       "    <tr>\n",
       "      <th>month</th>\n",
       "      <th></th>\n",
       "      <th></th>\n",
       "      <th></th>\n",
       "      <th></th>\n",
       "      <th></th>\n",
       "      <th></th>\n",
       "      <th></th>\n",
       "      <th></th>\n",
       "    </tr>\n",
       "  </thead>\n",
       "  <tbody>\n",
       "    <tr>\n",
       "      <th>January</th>\n",
       "      <td>8556.0</td>\n",
       "      <td>266.259</td>\n",
       "      <td>1705.801181</td>\n",
       "      <td>1599.601181</td>\n",
       "      <td>160.059000</td>\n",
       "      <td>507.521600</td>\n",
       "      <td>1568.893181</td>\n",
       "      <td>5.220360</td>\n",
       "    </tr>\n",
       "    <tr>\n",
       "      <th>February</th>\n",
       "      <td>7728.0</td>\n",
       "      <td>449.634</td>\n",
       "      <td>1557.578810</td>\n",
       "      <td>1392.808310</td>\n",
       "      <td>284.863500</td>\n",
       "      <td>954.458573</td>\n",
       "      <td>1337.212110</td>\n",
       "      <td>9.451354</td>\n",
       "    </tr>\n",
       "    <tr>\n",
       "      <th>March</th>\n",
       "      <td>8556.0</td>\n",
       "      <td>602.451</td>\n",
       "      <td>1797.859450</td>\n",
       "      <td>1619.011450</td>\n",
       "      <td>423.603000</td>\n",
       "      <td>1348.463600</td>\n",
       "      <td>1544.131850</td>\n",
       "      <td>12.729532</td>\n",
       "    </tr>\n",
       "    <tr>\n",
       "      <th>April</th>\n",
       "      <td>8280.0</td>\n",
       "      <td>915.132</td>\n",
       "      <td>1726.356487</td>\n",
       "      <td>1460.504519</td>\n",
       "      <td>649.280032</td>\n",
       "      <td>1808.722680</td>\n",
       "      <td>1366.067677</td>\n",
       "      <td>16.054263</td>\n",
       "    </tr>\n",
       "    <tr>\n",
       "      <th>May</th>\n",
       "      <td>8556.0</td>\n",
       "      <td>1641.360</td>\n",
       "      <td>943.803809</td>\n",
       "      <td>717.333809</td>\n",
       "      <td>1414.890000</td>\n",
       "      <td>4205.310081</td>\n",
       "      <td>532.806345</td>\n",
       "      <td>31.369669</td>\n",
       "    </tr>\n",
       "    <tr>\n",
       "      <th>June</th>\n",
       "      <td>8280.0</td>\n",
       "      <td>1408.287</td>\n",
       "      <td>1158.995538</td>\n",
       "      <td>844.784538</td>\n",
       "      <td>1094.076000</td>\n",
       "      <td>3348.979991</td>\n",
       "      <td>689.306770</td>\n",
       "      <td>26.431221</td>\n",
       "    </tr>\n",
       "    <tr>\n",
       "      <th>July</th>\n",
       "      <td>8556.0</td>\n",
       "      <td>1371.465</td>\n",
       "      <td>1196.957121</td>\n",
       "      <td>907.445121</td>\n",
       "      <td>1081.953000</td>\n",
       "      <td>3295.602656</td>\n",
       "      <td>757.601675</td>\n",
       "      <td>25.473386</td>\n",
       "    </tr>\n",
       "    <tr>\n",
       "      <th>August</th>\n",
       "      <td>8556.0</td>\n",
       "      <td>1158.639</td>\n",
       "      <td>1491.525351</td>\n",
       "      <td>1217.886351</td>\n",
       "      <td>885.000000</td>\n",
       "      <td>2928.178924</td>\n",
       "      <td>1061.982898</td>\n",
       "      <td>26.503587</td>\n",
       "    </tr>\n",
       "    <tr>\n",
       "      <th>September</th>\n",
       "      <td>8280.0</td>\n",
       "      <td>835.680</td>\n",
       "      <td>1620.714165</td>\n",
       "      <td>1398.834165</td>\n",
       "      <td>613.800000</td>\n",
       "      <td>1976.154437</td>\n",
       "      <td>1288.260760</td>\n",
       "      <td>18.797479</td>\n",
       "    </tr>\n",
       "    <tr>\n",
       "      <th>October</th>\n",
       "      <td>8556.0</td>\n",
       "      <td>546.132</td>\n",
       "      <td>1420.745585</td>\n",
       "      <td>1260.335585</td>\n",
       "      <td>385.722000</td>\n",
       "      <td>1501.539178</td>\n",
       "      <td>1172.994007</td>\n",
       "      <td>14.848068</td>\n",
       "    </tr>\n",
       "    <tr>\n",
       "      <th>November</th>\n",
       "      <td>8280.0</td>\n",
       "      <td>381.723</td>\n",
       "      <td>1479.005869</td>\n",
       "      <td>1354.184869</td>\n",
       "      <td>256.902000</td>\n",
       "      <td>1053.015600</td>\n",
       "      <td>1275.468269</td>\n",
       "      <td>13.381822</td>\n",
       "    </tr>\n",
       "    <tr>\n",
       "      <th>December</th>\n",
       "      <td>8556.0</td>\n",
       "      <td>205.965</td>\n",
       "      <td>1960.563395</td>\n",
       "      <td>1852.518395</td>\n",
       "      <td>97.920000</td>\n",
       "      <td>370.554000</td>\n",
       "      <td>1821.258395</td>\n",
       "      <td>5.314200</td>\n",
       "    </tr>\n",
       "  </tbody>\n",
       "</table>\n",
       "</div>"
      ],
      "text/plain": [
       "             hour  solar_kWh  electric_use_kWh  elec_to_buy_kWh  \\\n",
       "month                                                             \n",
       "January    8556.0    266.259       1705.801181      1599.601181   \n",
       "February   7728.0    449.634       1557.578810      1392.808310   \n",
       "March      8556.0    602.451       1797.859450      1619.011450   \n",
       "April      8280.0    915.132       1726.356487      1460.504519   \n",
       "May        8556.0   1641.360        943.803809       717.333809   \n",
       "June       8280.0   1408.287       1158.995538       844.784538   \n",
       "July       8556.0   1371.465       1196.957121       907.445121   \n",
       "August     8556.0   1158.639       1491.525351      1217.886351   \n",
       "September  8280.0    835.680       1620.714165      1398.834165   \n",
       "October    8556.0    546.132       1420.745585      1260.335585   \n",
       "November   8280.0    381.723       1479.005869      1354.184869   \n",
       "December   8556.0    205.965       1960.563395      1852.518395   \n",
       "\n",
       "           excess_solar_kWh  battery_charge_kWh  kWh_to_buy_w_battery  \\\n",
       "month                                                                   \n",
       "January          160.059000          507.521600           1568.893181   \n",
       "February         284.863500          954.458573           1337.212110   \n",
       "March            423.603000         1348.463600           1544.131850   \n",
       "April            649.280032         1808.722680           1366.067677   \n",
       "May             1414.890000         4205.310081            532.806345   \n",
       "June            1094.076000         3348.979991            689.306770   \n",
       "July            1081.953000         3295.602656            757.601675   \n",
       "August           885.000000         2928.178924           1061.982898   \n",
       "September        613.800000         1976.154437           1288.260760   \n",
       "October          385.722000         1501.539178           1172.994007   \n",
       "November         256.902000         1053.015600           1275.468269   \n",
       "December          97.920000          370.554000           1821.258395   \n",
       "\n",
       "           saved_cost  \n",
       "month                  \n",
       "January      5.220360  \n",
       "February     9.451354  \n",
       "March       12.729532  \n",
       "April       16.054263  \n",
       "May         31.369669  \n",
       "June        26.431221  \n",
       "July        25.473386  \n",
       "August      26.503587  \n",
       "September   18.797479  \n",
       "October     14.848068  \n",
       "November    13.381822  \n",
       "December     5.314200  "
      ]
     },
     "execution_count": 39,
     "metadata": {},
     "output_type": "execute_result"
    }
   ],
   "source": [
    "# extract month data from Date_hour_start\n",
    "\n",
    "data['month'] = data['date_hour_start'].dt.strftime('%B')\n",
    "\n",
    "# group by month\n",
    "data_monthly = data.groupby('month').sum()\n",
    "\n",
    "# order monthly data.\n",
    "month_order = [\"January\", \"February\", \"March\", \"April\", \"May\", \"June\", \"July\", \"August\", \"September\", \"October\", \"November\", \"December\"]\n",
    "data_monthly_clean = data_monthly.reindex(month_order, axis=0)\n",
    "\n",
    "data_monthly_clean"
   ]
  },
  {
   "cell_type": "markdown",
   "metadata": {},
   "source": [
    "# Visualize solar generation vs elecricity usage"
   ]
  },
  {
   "cell_type": "code",
   "execution_count": 42,
   "metadata": {},
   "outputs": [
    {
     "data": {
      "image/png": "[encoded data removed]",
      "text/plain": [
       "<Figure size 432x288 with 1 Axes>"
      ]
     },
     "metadata": {
      "needs_background": "light"
     },
     "output_type": "display_data"
    }
   ],
   "source": [
    "#graph solar generation vs elecricity usage\n",
    "\n",
    "data_monthly_clean[['solar_kWh','electric_use_kWh']].plot(kind='bar')\n",
    "\n",
    "plt.title(\"Total Monthly Solar Generation vs Electricity Usage\")\n",
    "plt.ylabel('kWh')\n",
    "\n",
    "plt.show()"
   ]
  },
  {
   "cell_type": "markdown",
   "metadata": {},
   "source": [
    "### Visualize monthly electricty purchased with battery vs wirhout battery"
   ]
  },
  {
   "cell_type": "code",
   "execution_count": 43,
   "metadata": {},
   "outputs": [
    {
     "data": {
      "image/png": "[encoded data removed]",
      "text/plain": [
       "<Figure size 432x288 with 1 Axes>"
      ]
     },
     "metadata": {
      "needs_background": "light"
     },
     "output_type": "display_data"
    }
   ],
   "source": [
    "# monthly electricty purchased with battery vs wirhout battery\n",
    "data_monthly_clean[['elec_to_buy_kWh','kWh_to_buy_w_battery']].plot(kind='line')\n",
    "\n",
    "plt.title(\"Total electricity purchased (no battery vs with battery)\")\n",
    "plt.ylabel('kWh')\n",
    "\n",
    "plt.show()"
   ]
  },
  {
   "cell_type": "markdown",
   "metadata": {},
   "source": [
    "### Calculate NPV net present value(current expected value of cashflow - current value of invested cash)\n",
    "\n",
    "#### Positive NPV = positive investment"
   ]
  },
  {
   "cell_type": "code",
   "execution_count": 45,
   "metadata": {},
   "outputs": [],
   "source": [
    "#Calculate NPV net present value(current expected value of cashflow - current value of invested cash)\n",
    "# Positive NPV = positive investment\n",
    "\n",
    "# calculate cashflow for 2022 savings\n",
    "\n",
    "savings_2022 = data['saved_cost'].sum()\n",
    "\n",
    "# create list with initial inveatment\n",
    "savings = [-7000]\n",
    "\n",
    "\n"
   ]
  },
  {
   "cell_type": "markdown",
   "metadata": {},
   "source": [
    "#### Scenario 1 : Electricity prices increase as expected 4% p.a"
   ]
  },
  {
   "cell_type": "code",
   "execution_count": 46,
   "metadata": {},
   "outputs": [
    {
     "data": {
      "text/plain": [
       "[-7000,\n",
       " 205.57494058800003,\n",
       " 213.79793821152003,\n",
       " 222.34985573998085,\n",
       " 231.24384996958008,\n",
       " 240.49360396836332,\n",
       " 250.11334812709782,\n",
       " 260.1178820521818,\n",
       " 270.52259733426905,\n",
       " 281.3435012276398,\n",
       " 292.5972412767454,\n",
       " 304.3011309278152,\n",
       " 316.47317616492785,\n",
       " 329.132103211525,\n",
       " 342.297387339986,\n",
       " 355.98928283358543,\n",
       " 370.2288541469289,\n",
       " 385.038008312806,\n",
       " 400.4395286453183,\n",
       " 416.4571097911311,\n",
       " 433.1153941827763]"
      ]
     },
     "execution_count": 46,
     "metadata": {},
     "output_type": "execute_result"
    }
   ],
   "source": [
    "# set electricity growth rate.\n",
    "electricity_growth_rate = 0.04\n",
    "\n",
    "#calculate the cost savings cash flow per year, and put it into list\n",
    "for i in range(0,20): \n",
    "    value = savings_2022*(1+electricity_growth_rate)**i\n",
    "    savings.append(value)\n",
    "    \n",
    "savings"
   ]
  },
  {
   "cell_type": "code",
   "execution_count": 47,
   "metadata": {},
   "outputs": [
    {
     "data": {
      "text/plain": [
       "-3743.7191846526052"
      ]
     },
     "execution_count": 47,
     "metadata": {},
     "output_type": "execute_result"
    }
   ],
   "source": [
    "#set the discount rate\n",
    "disc_rate = 0.06\n",
    "npv_values1 = []\n",
    "\n",
    "#calculate the NPV\n",
    "for i,c in enumerate(savings):\n",
    "    disc_value = c/(1+disc_rate)**i\n",
    "    npv_values1.append(disc_value)\n",
    "\n",
    "NPV1 = sum(npv_values1)\n",
    "NPV1"
   ]
  },
  {
   "cell_type": "markdown",
   "metadata": {},
   "source": [
    "### Scenario 2: electric prices increase by 0.25% more as predicted by Naomi.\n"
   ]
  },
  {
   "cell_type": "code",
   "execution_count": 49,
   "metadata": {},
   "outputs": [
    {
     "data": {
      "text/plain": [
       "[-7000,\n",
       " 205.57494058800003,\n",
       " 214.31187556299002,\n",
       " 224.4929744956107,\n",
       " 236.28288685273097,\n",
       " 249.87762512809277,\n",
       " 265.5098858224355,\n",
       " 283.4555280802668,\n",
       " 304.04145748707606,\n",
       " 327.65522322797614,\n",
       " 354.75671270000544,\n",
       " 385.89242289825745,\n",
       " 421.71290777140104,\n",
       " 462.994152093415,\n",
       " 510.66381402983046,\n",
       " 565.8335218706882,\n",
       " 629.8387201117366,\n",
       " 704.2879553613104,\n",
       " 791.123998407958,\n",
       " 892.6998478225146,\n",
       " 1011.8734953979823]"
      ]
     },
     "execution_count": 49,
     "metadata": {},
     "output_type": "execute_result"
    }
   ],
   "source": [
    "#set the electricity price increate rate\n",
    "electricity_growth_rate  = 0.04\n",
    "gr_increase = 0.0025\n",
    "\n",
    "#reset the list\n",
    "savings2 = [-7000]\n",
    "\n",
    "#calculate the cost savings cash flow per year, and put it into list\n",
    "for i in range(0,20): \n",
    "    if i == 0: \n",
    "        value = savings_2022*(1+electricity_growth_rate )**i\n",
    "        savings2.append(value)\n",
    "    else:\n",
    "        value = savings_2022*(1+(electricity_growth_rate +((i)*gr_increase)))**i\n",
    "        savings2.append(value)\n",
    "    \n",
    "savings2"
   ]
  },
  {
   "cell_type": "code",
   "execution_count": 50,
   "metadata": {},
   "outputs": [
    {
     "data": {
      "text/plain": [
       "-2605.370782529751"
      ]
     },
     "execution_count": 50,
     "metadata": {},
     "output_type": "execute_result"
    }
   ],
   "source": [
    "#set the discount rate\n",
    "disc_rate = 0.06\n",
    "npv_values2 = []\n",
    "\n",
    "#calculate the NPV\n",
    "for i,c in enumerate(savings2):\n",
    "    disc_value = c/(1+disc_rate)**i\n",
    "    npv_values2.append(disc_value)\n",
    "\n",
    "NPV2 = sum(npv_values2)\n",
    "NPV2"
   ]
  },
  {
   "cell_type": "markdown",
   "metadata": {},
   "source": [
    "#### Calculate IRR(internal rate of return)is the value of the return rate that makes NPV = 0.\n",
    "\n",
    "In order for your investment to be considered good, it needs to have a high rate of return (above 20%). If your Internal Rate of Return is low (less than 5%), then it would be wise to reconsider your investment option."
   ]
  },
  {
   "cell_type": "code",
   "execution_count": 52,
   "metadata": {},
   "outputs": [
    {
     "data": {
      "text/plain": [
       "-0.06711195426308825"
      ]
     },
     "execution_count": 52,
     "metadata": {},
     "output_type": "execute_result"
    }
   ],
   "source": [
    "# scenario 1: Electricy price increase by 4%\n",
    "npf.irr(npv_values1)\n"
   ]
  },
  {
   "cell_type": "code",
   "execution_count": null,
   "metadata": {},
   "outputs": [],
   "source": [
    "# scenario 1: Electricy price increase by 4% +0.25%\n",
    "npf.irr(npv_values2)"
   ]
  }
 ],
 "metadata": {
  "kernelspec": {
   "display_name": "Python 3",
   "language": "python",
   "name": "python3"
  },
  "language_info": {
   "codemirror_mode": {
    "name": "ipython",
    "version": 3
   },
   "file_extension": ".py",
   "mimetype": "text/x-python",
   "name": "python",
   "nbconvert_exporter": "python",
   "pygments_lexer": "ipython3",
   "version": "3.8.5"
  }
 },
 "nbformat": 4,
 "nbformat_minor": 2
}
